{
  "nbformat": 4,
  "nbformat_minor": 0,
  "metadata": {
    "colab": {
      "name": "Tokenizing words.ipynb",
      "provenance": [],
      "authorship_tag": "ABX9TyOFGy6cGaWI31fDIJWrGvzJ",
      "include_colab_link": true
    },
    "kernelspec": {
      "name": "python3",
      "display_name": "Python 3"
    },
    "language_info": {
      "name": "python"
    }
  },
  "cells": [
    {
      "cell_type": "markdown",
      "metadata": {
        "id": "view-in-github",
        "colab_type": "text"
      },
      "source": [
        "<a href=\"https://colab.research.google.com/github/shelvi31/Natural-Language-Processing/blob/main/Tokenizing_words.ipynb\" target=\"_parent\"><img src=\"https://colab.research.google.com/assets/colab-badge.svg\" alt=\"Open In Colab\"/></a>"
      ]
    },
    {
      "cell_type": "code",
      "metadata": {
        "id": "JUSnLIEw0C0W"
      },
      "source": [
        "#importing\n",
        "import tensorflow as tf\n",
        "from tensorflow import keras\n",
        "\n",
        "#getting tokenizer api from tensorflow keras\n",
        "from tensorflow.keras.preprocessing.text import Tokenizer"
      ],
      "execution_count": null,
      "outputs": []
    },
    {
      "cell_type": "code",
      "metadata": {
        "id": "S54K-Z5D0Tce"
      },
      "source": [
        "#defining sentences as a python array of strings\n",
        "\n",
        "sentences = [\n",
        "             \"i love my dog\",\n",
        "             \"i love myself\",\n",
        "             \"you love my dog\"\n",
        "]"
      ],
      "execution_count": null,
      "outputs": []
    },
    {
      "cell_type": "code",
      "metadata": {
        "id": "XzMH-0t80gmE"
      },
      "source": [
        "#create instance of tokenizer objects\n",
        "tokenizer = Tokenizer(num_words=100)     #num_words parameter is the max no. of words to keep"
      ],
      "execution_count": null,
      "outputs": []
    },
    {
      "cell_type": "code",
      "metadata": {
        "id": "j1D7V--i1ehV"
      },
      "source": [
        "#asking tokenizer to go to text and fix them in sentences\n",
        "tokenizer.fit_on_texts(sentences)"
      ],
      "execution_count": null,
      "outputs": []
    },
    {
      "cell_type": "code",
      "metadata": {
        "id": "xEvbvPXA1p7X"
      },
      "source": [
        "#indexing the words\n",
        "word_index = tokenizer.word_index"
      ],
      "execution_count": null,
      "outputs": []
    },
    {
      "cell_type": "code",
      "metadata": {
        "id": "izsPAX3r16O2",
        "colab": {
          "base_uri": "https://localhost:8080/"
        },
        "outputId": "5c6804a8-745c-4f87-d5a1-c61fc8300f27"
      },
      "source": [
        "print(word_index)"
      ],
      "execution_count": null,
      "outputs": [
        {
          "output_type": "stream",
          "text": [
            "{'love': 1, 'i': 2, 'my': 3, 'dog': 4, 'myself': 5, 'you': 6}\n"
          ],
          "name": "stdout"
        }
      ]
    },
    {
      "cell_type": "code",
      "metadata": {
        "id": "gNzIVNBc19wN"
      },
      "source": [
        ""
      ],
      "execution_count": null,
      "outputs": []
    }
  ]
}